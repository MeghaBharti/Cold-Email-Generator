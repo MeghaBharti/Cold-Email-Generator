{
 "cells": [
  {
   "cell_type": "code",
   "execution_count": 1,
   "id": "c1443a88-19a0-44f3-ad7d-72f2d5d7787a",
   "metadata": {},
   "outputs": [],
   "source": [
    "from langchain_groq import ChatGroq\n"
   ]
  },
  {
   "cell_type": "code",
   "execution_count": 2,
   "id": "0450c943-5be0-47d2-afc3-53c7a4df802a",
   "metadata": {},
   "outputs": [
    {
     "name": "stdout",
     "output_type": "stream",
     "text": [
      "According to the available data, the placement statistics for M.Tech in Applied Optics (AFI) branch at Delhi Technological University (DTU) are as follows:\n",
      "\n",
      "* Placement Percentage: Around 70-80%\n",
      "* Average Salary: Approximately 6-8 lakhs per annum\n",
      "* Highest Salary: Up to 12-15 lakhs per annum\n",
      "* Top Recruiters: Companies like ISRO, DRDO, BEL, and some private companies like Tejas Networks, and Optiemus Infracom.\n",
      "\n",
      "Please note that these statistics may vary from year to year and may not reflect the current placement scenario. Also, these statistics are based on available data and may not be comprehensive or up-to-date.\n",
      "\n",
      "For more accurate and recent information, I would recommend checking the official DTU website or contacting the placement cell directly.\n"
     ]
    }
   ],
   "source": [
    "llm = ChatGroq(\n",
    "    temperature=0, \n",
    "    groq_api_key='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', \n",
    "    model_name=\"llama-3.1-70b-versatile\"\n",
    ")\n",
    "\n",
    "response = llm.invoke(\"Give the stat of DTU according to onlt Mtech placement in AFI branch\")\n",
    "print(response.content)"
   ]
  },
  {
   "cell_type": "code",
   "execution_count": 3,
   "id": "aae1c98e-5367-482e-adc8-6c85d4f354b6",
   "metadata": {},
   "outputs": [
    {
     "name": "stdout",
     "output_type": "stream",
     "text": [
      "Note: you may need to restart the kernel to use updated packages.\n"
     ]
    }
   ],
   "source": [
    "pip install -qU langchain_community beautifulsoup4"
   ]
  },
  {
   "cell_type": "code",
   "execution_count": 18,
   "id": "64ed7752-236e-4741-b98b-004d80803ce4",
   "metadata": {},
   "outputs": [
    {
     "name": "stdout",
     "output_type": "stream",
     "text": [
      "Apply for Software Engineer\n",
      "\n",
      "Search JobsSkip navigationSearch JobsNIKE, INC. JOBSContract JobsJoin The Talent CommunityLife @ NikeOverviewBenefitsBrandsOverviewJordanConverseTeamsOverviewAdministrative SupportAdvanced InnovationAir Manufacturing InnovationAviationCommunicationsCustomer ServiceDesignDigitalFacilitiesFinance & AccountingGovernment & Public AffairsHuman ResourcesInsights & AnalyticsLegalManufacturing & EngineeringMarketingMerchandisingPlanningPrivacyProcurementProduct Creation, Development & ManagementRetail CorporateRetail StoresSalesSocial & Community ImpactSports MarketingStrategic PlanningSupply Chain, Distribution & LogisticsSustainabilityTechnologyLocationsOverviewNike WHQNike New York HQEHQ: Hilversum, The NetherlandsELC: Laakdal, BelgiumGreater China HQDiversity, Equity & InclusionOverviewMilitary InclusionDisability InclusionIndigenous InclusionInternshipsTechnologySoftware EngineerBoston, MassachusettsBecome part of the Converse TeamConverse is a place to explore potential, break barriers and push out the edges of what can be. The company looks for people who can grow, think, dream and create. Its culture thrives by embracing diversity and rewarding imagination. The brand seeks achievers, leaders and visionaries. At Converse, it’s about each person bringing skills and passion to a challenging and constantly evolving world to make things better as a team.We Need Someone Who Speaks ComputerComputers have their own language. Which most of us don’t speak.  But you do. And we need your fluency.  Let’s face it. The modern world is shackled to computers so we need experts like yourself to keep us running.  So come join our crew. You don’t have to call yourself The Computer Whisperer but we might.Software Engineer - Converse, Inc. - Boston, MA. Develop, code, configure, test programs/systems and solutions problems in order to meet defined digital product specifications and direction; develop robust advanced analytics and machine learning solutions that have a direct impact on the business; help design and build scalable software solutions, implement and integrate new technologies, manage and evolve existing platforms; design and implement scalable applications that leverage prediction models and optimization programs to deliver data driven decisions that result in immense business impact; assess a well-defined problem and lead the development of a technical solution that meets the needs of the business and aligns with architectural standards; contribute to core advanced analytics and machine learning platforms and tools to enable both prediction and optimization model development; and solve machine learning problems at scale; and develop products focused primarily on consumer data. Telecommuting is available from anywhere in the U.S., except from AK, AL, IN, LA, MT, ND, SD, VT, and WY. Employer will accept a Bachelor’s degree in Computer Science, Information Systems, or Computer Engineering and five (5) years of progressive, post-baccalaureate experience in job offered or in an engineering-related occupation.   Experience must include three (3) years the following: Digital Order Management Systems Warehouse Management Systems API Tools Microservices 3rd party product integration Retail and Digital systems XML JSON Python Order management and fulfillment process Drop ship process CommerceHUB platform  Apply at www.jobs.nike.com (Job #). #LI-DNIWe are committed to fostering a diverse and inclusive environment for all employees and job applicants. We offer a number of accommodations to complete our interview process including screen readers, sign language interpreters, accessible and single location for in-person interviews, closed captioning, and other reasonable modifications as needed. If you discover, as you navigate our application process, that you need assistance or an accommodation due to a disability, please complete the Candidate Accommodation Request Form.Converse is more than a company; it’s a worldwide advocate for self-expression. This belief motivates our employees, permeates our working environment and inspires our products. No two of us look or think exactly alike. We are each one-of-a-kind. Individually and as a culture, we have the freedom to create and grow professionally. Generous benefits packages only sweeten the experience. From Boston to Shanghai, from Brand Design to Finance, Converse is a brand that celebrates the unique and creative people of the world. Together, we’re different.How We HireAt NIKE, Inc. we promise to provide a premium, inclusive, compelling and authentic candidate experience. Delivering on this promise means we allow you to be at your best — and to do that, you need to understand how the hiring process works. Transparency is key.\n",
      "\n",
      "* This overview explains our hiring process for corporate roles. Note there may be different hiring steps involved for non-corporate roles.Start nowBenefitsWhether it’s transportation or financial health, we continually invest in our employees to help them achieve greatness — inside and outside of work. All who work here should be able to realize their full potential.Employee Assistance ProgramEmployee Stock Purchase Plan (ESPP)HolidaysMedical PlanPaid Time Off (PTO)Product DiscountsSabbaticalsSummer HoursLearn moreFIND A STOREBECOME A MEMBERSIGN UP FOR EMAILSEND US FEEDBACKSTUDENT DISCOUNTSGET HELPGET HELPOrder StatusDeliveryReturnsPayment OptionsContact Us On Nike.com InquiriesContact Us On All Other InquiriesABOUT NIKEABOUT NIKENewsCareersInvestorsSustainabilityIndia© 2025 Nike, Inc. All Rights ReservedGuidesNike AdaptNike Air MaxNike FlyleatherNike PegasusNike Zoom FlyNike AirNike FlyEaseNike FreeNike ReactNike ZoomXNike Air Force 1Nike FlyknitNike JoyrideNike VaporflyTerms of SaleTerms of UseNike Privacy Policy\n"
     ]
    }
   ],
   "source": [
    "from langchain_community.document_loaders import WebBaseLoader\n",
    "\n",
    "loader = WebBaseLoader(\"https://jobs.nike.com/job/R-48491\")\n",
    "\n",
    "page_data = loader.load().pop().page_content\n",
    "print(page_data)"
   ]
  },
  {
   "cell_type": "code",
   "execution_count": 19,
   "id": "4834ed6e-42ac-4eee-a948-88f756281651",
   "metadata": {},
   "outputs": [
    {
     "name": "stdout",
     "output_type": "stream",
     "text": [
      "```json\n",
      "{\n",
      "  \"role\": \"Software Engineer\",\n",
      "  \"experience\": \"5 years of progressive, post-baccalaureate experience in job offered or in an engineering-related occupation\",\n",
      "  \"skills\": [\n",
      "    \"Digital Order Management Systems\",\n",
      "    \"Warehouse Management Systems\",\n",
      "    \"API Tools\",\n",
      "    \"Microservices\",\n",
      "    \"3rd party product integration\",\n",
      "    \"Retail and Digital systems\",\n",
      "    \"XML\",\n",
      "    \"JSON\",\n",
      "    \"Python\",\n",
      "    \"Order management and fulfillment process\",\n",
      "    \"Drop ship process\",\n",
      "    \"CommerceHUB platform\"\n",
      "  ],\n",
      "  \"description\": \"Develop, code, configure, test programs/systems and solutions problems in order to meet defined digital product specifications and direction; develop robust advanced analytics and machine learning solutions that have a direct impact on the business; help design and build scalable software solutions, implement and integrate new technologies, manage and evolve existing platforms\"\n",
      "}\n",
      "```\n"
     ]
    }
   ],
   "source": [
    "from langchain_core.prompts import PromptTemplate\n",
    "\n",
    "prompt_extract = PromptTemplate.from_template(\n",
    "    \"\"\"\n",
    "        ### SCRAPED TEXT FROM WEBSITE:\n",
    "        {page_data}\n",
    "        ### INSTRUCTION:\n",
    "        The scraped text is from the career's page of a website.\n",
    "        Your job is to extract the job postings and return them in JSON format containing the \n",
    "        following keys: `role`, `experience`, `skills` and `description`.\n",
    "        Only return the valid JSON.\n",
    "        ### VALID JSON (NO PREAMBLE):    \n",
    "        \"\"\"\n",
    "    \n",
    ")\n",
    "\n",
    "chain_extract = prompt_extract | llm\n",
    "res = chain_extract.invoke(input={'page_data':page_data})\n",
    "print(res.content)"
   ]
  },
  {
   "cell_type": "code",
   "execution_count": 20,
   "id": "6240e610-1b90-4652-a17d-3f7f929924d7",
   "metadata": {},
   "outputs": [
    {
     "data": {
      "text/plain": [
       "{'role': 'Software Engineer',\n",
       " 'experience': '5 years of progressive, post-baccalaureate experience in job offered or in an engineering-related occupation',\n",
       " 'skills': ['Digital Order Management Systems',\n",
       "  'Warehouse Management Systems',\n",
       "  'API Tools',\n",
       "  'Microservices',\n",
       "  '3rd party product integration',\n",
       "  'Retail and Digital systems',\n",
       "  'XML',\n",
       "  'JSON',\n",
       "  'Python',\n",
       "  'Order management and fulfillment process',\n",
       "  'Drop ship process',\n",
       "  'CommerceHUB platform'],\n",
       " 'description': 'Develop, code, configure, test programs/systems and solutions problems in order to meet defined digital product specifications and direction; develop robust advanced analytics and machine learning solutions that have a direct impact on the business; help design and build scalable software solutions, implement and integrate new technologies, manage and evolve existing platforms'}"
      ]
     },
     "execution_count": 20,
     "metadata": {},
     "output_type": "execute_result"
    }
   ],
   "source": [
    "from langchain_core.output_parsers import JsonOutputParser\n",
    "json_parser = JsonOutputParser()\n",
    "json_res= json_parser.parse(res.content)\n",
    "json_res"
   ]
  },
  {
   "cell_type": "code",
   "execution_count": 21,
   "id": "1402465e-2674-49d2-a52d-d91aa16ebe80",
   "metadata": {},
   "outputs": [
    {
     "data": {
      "text/html": [
       "<div>\n",
       "<style scoped>\n",
       "    .dataframe tbody tr th:only-of-type {\n",
       "        vertical-align: middle;\n",
       "    }\n",
       "\n",
       "    .dataframe tbody tr th {\n",
       "        vertical-align: top;\n",
       "    }\n",
       "\n",
       "    .dataframe thead th {\n",
       "        text-align: right;\n",
       "    }\n",
       "</style>\n",
       "<table border=\"1\" class=\"dataframe\">\n",
       "  <thead>\n",
       "    <tr style=\"text-align: right;\">\n",
       "      <th></th>\n",
       "      <th>Techstack</th>\n",
       "      <th>Links</th>\n",
       "    </tr>\n",
       "  </thead>\n",
       "  <tbody>\n",
       "    <tr>\n",
       "      <th>0</th>\n",
       "      <td>React, Node.js, MongoDB</td>\n",
       "      <td>https://example.com/react-portfolio</td>\n",
       "    </tr>\n",
       "    <tr>\n",
       "      <th>1</th>\n",
       "      <td>Angular,.NET, SQL Server</td>\n",
       "      <td>https://example.com/angular-portfolio</td>\n",
       "    </tr>\n",
       "    <tr>\n",
       "      <th>2</th>\n",
       "      <td>Vue.js, Ruby on Rails, PostgreSQL</td>\n",
       "      <td>https://example.com/vue-portfolio</td>\n",
       "    </tr>\n",
       "    <tr>\n",
       "      <th>3</th>\n",
       "      <td>Python, Django, MySQL</td>\n",
       "      <td>https://example.com/python-portfolio</td>\n",
       "    </tr>\n",
       "    <tr>\n",
       "      <th>4</th>\n",
       "      <td>Java, Spring Boot, Oracle</td>\n",
       "      <td>https://example.com/java-portfolio</td>\n",
       "    </tr>\n",
       "    <tr>\n",
       "      <th>5</th>\n",
       "      <td>Flutter, Firebase, GraphQL</td>\n",
       "      <td>https://example.com/flutter-portfolio</td>\n",
       "    </tr>\n",
       "    <tr>\n",
       "      <th>6</th>\n",
       "      <td>WordPress, PHP, MySQL</td>\n",
       "      <td>https://example.com/wordpress-portfolio</td>\n",
       "    </tr>\n",
       "    <tr>\n",
       "      <th>7</th>\n",
       "      <td>Magento, PHP, MySQL</td>\n",
       "      <td>https://example.com/magento-portfolio</td>\n",
       "    </tr>\n",
       "    <tr>\n",
       "      <th>8</th>\n",
       "      <td>React Native, Node.js, MongoDB</td>\n",
       "      <td>https://example.com/react-native-portfolio</td>\n",
       "    </tr>\n",
       "    <tr>\n",
       "      <th>9</th>\n",
       "      <td>iOS, Swift, Core Data</td>\n",
       "      <td>https://example.com/ios-portfolio</td>\n",
       "    </tr>\n",
       "    <tr>\n",
       "      <th>10</th>\n",
       "      <td>Android, Java, Room Persistence</td>\n",
       "      <td>https://example.com/android-portfolio</td>\n",
       "    </tr>\n",
       "    <tr>\n",
       "      <th>11</th>\n",
       "      <td>Kotlin, Android, Firebase</td>\n",
       "      <td>https://example.com/kotlin-android-portfolio</td>\n",
       "    </tr>\n",
       "    <tr>\n",
       "      <th>12</th>\n",
       "      <td>Android TV, Kotlin, Android NDK</td>\n",
       "      <td>https://example.com/android-tv-portfolio</td>\n",
       "    </tr>\n",
       "    <tr>\n",
       "      <th>13</th>\n",
       "      <td>iOS, Swift, ARKit</td>\n",
       "      <td>https://example.com/ios-ar-portfolio</td>\n",
       "    </tr>\n",
       "    <tr>\n",
       "      <th>14</th>\n",
       "      <td>Cross-platform, Xamarin, Azure</td>\n",
       "      <td>https://example.com/xamarin-portfolio</td>\n",
       "    </tr>\n",
       "    <tr>\n",
       "      <th>15</th>\n",
       "      <td>Backend, Kotlin, Spring Boot</td>\n",
       "      <td>https://example.com/kotlin-backend-portfolio</td>\n",
       "    </tr>\n",
       "    <tr>\n",
       "      <th>16</th>\n",
       "      <td>Frontend, TypeScript, Angular</td>\n",
       "      <td>https://example.com/typescript-frontend-portfolio</td>\n",
       "    </tr>\n",
       "    <tr>\n",
       "      <th>17</th>\n",
       "      <td>Full-stack, JavaScript, Express.js</td>\n",
       "      <td>https://example.com/full-stack-js-portfolio</td>\n",
       "    </tr>\n",
       "    <tr>\n",
       "      <th>18</th>\n",
       "      <td>Machine Learning, Python, TensorFlow</td>\n",
       "      <td>https://example.com/ml-python-portfolio</td>\n",
       "    </tr>\n",
       "    <tr>\n",
       "      <th>19</th>\n",
       "      <td>DevOps, Jenkins, Docker</td>\n",
       "      <td>https://example.com/devops-portfolio</td>\n",
       "    </tr>\n",
       "  </tbody>\n",
       "</table>\n",
       "</div>"
      ],
      "text/plain": [
       "                               Techstack  \\\n",
       "0                React, Node.js, MongoDB   \n",
       "1               Angular,.NET, SQL Server   \n",
       "2      Vue.js, Ruby on Rails, PostgreSQL   \n",
       "3                  Python, Django, MySQL   \n",
       "4              Java, Spring Boot, Oracle   \n",
       "5             Flutter, Firebase, GraphQL   \n",
       "6                  WordPress, PHP, MySQL   \n",
       "7                    Magento, PHP, MySQL   \n",
       "8         React Native, Node.js, MongoDB   \n",
       "9                  iOS, Swift, Core Data   \n",
       "10       Android, Java, Room Persistence   \n",
       "11             Kotlin, Android, Firebase   \n",
       "12       Android TV, Kotlin, Android NDK   \n",
       "13                     iOS, Swift, ARKit   \n",
       "14        Cross-platform, Xamarin, Azure   \n",
       "15          Backend, Kotlin, Spring Boot   \n",
       "16         Frontend, TypeScript, Angular   \n",
       "17    Full-stack, JavaScript, Express.js   \n",
       "18  Machine Learning, Python, TensorFlow   \n",
       "19               DevOps, Jenkins, Docker   \n",
       "\n",
       "                                                Links  \n",
       "0                 https://example.com/react-portfolio  \n",
       "1               https://example.com/angular-portfolio  \n",
       "2                   https://example.com/vue-portfolio  \n",
       "3                https://example.com/python-portfolio  \n",
       "4                  https://example.com/java-portfolio  \n",
       "5               https://example.com/flutter-portfolio  \n",
       "6             https://example.com/wordpress-portfolio  \n",
       "7               https://example.com/magento-portfolio  \n",
       "8          https://example.com/react-native-portfolio  \n",
       "9                   https://example.com/ios-portfolio  \n",
       "10              https://example.com/android-portfolio  \n",
       "11       https://example.com/kotlin-android-portfolio  \n",
       "12           https://example.com/android-tv-portfolio  \n",
       "13               https://example.com/ios-ar-portfolio  \n",
       "14              https://example.com/xamarin-portfolio  \n",
       "15       https://example.com/kotlin-backend-portfolio  \n",
       "16  https://example.com/typescript-frontend-portfolio  \n",
       "17        https://example.com/full-stack-js-portfolio  \n",
       "18            https://example.com/ml-python-portfolio  \n",
       "19               https://example.com/devops-portfolio  "
      ]
     },
     "execution_count": 21,
     "metadata": {},
     "output_type": "execute_result"
    }
   ],
   "source": [
    "import pandas as pd\n",
    "df =pd.read_csv(\"my_portfolio.csv\")\n",
    "df"
   ]
  },
  {
   "cell_type": "code",
   "execution_count": 12,
   "id": "0661beb1-6882-4ba2-83f4-1142e1564604",
   "metadata": {},
   "outputs": [],
   "source": [
    "import uuid\n",
    "import chromadb\n",
    "\n",
    "client = chromadb.PersistentClient('vectorstore')\n",
    "collection = client.get_or_create_collection(name='portfolio')\n",
    "\n",
    "if not collection.count():\n",
    "    for _, row in df.iterrows():\n",
    "        collection.add(documents = row[\"Techstack\"],\n",
    "                       metadatas ={\"links\":row[\"Links\"]},\n",
    "                       ids= [str(uuid.uuid4())])"
   ]
  },
  {
   "cell_type": "code",
   "execution_count": 14,
   "id": "00ffb0f3-58ad-4ec4-9822-3ca86348808f",
   "metadata": {},
   "outputs": [
    {
     "data": {
      "text/plain": [
       "{'ids': ['c7a1fa3e-9bad-414d-8a97-5715a661b58b',\n",
       "  'ac26a6b0-80b6-408c-9722-eaafdf100f6d',\n",
       "  'b2f95f93-b193-475d-ab09-629b0f3561c7',\n",
       "  '943093ac-cf9d-4b18-9f45-584ca928d284',\n",
       "  '4142eeb6-bf21-4a59-b2ee-f8aa6d557999',\n",
       "  '59bda658-afb8-4136-951a-3979ea38f9b5',\n",
       "  'fa644f08-d2f3-494e-bd82-d9287a961d3b',\n",
       "  '7950203e-f651-4f44-ad3e-c3e1aff29cbb',\n",
       "  'c1313a37-5aaa-4a78-92c8-cc7e8f804c3e',\n",
       "  '1ac593b8-764d-4c70-8aba-65866b6f8485',\n",
       "  '40297526-d6da-478e-87fa-265fcba21a53',\n",
       "  'f443f1b2-7040-4612-8162-8d6b51d11a79',\n",
       "  '9b252b9a-8e97-4b81-bd90-e75be66a8ff4',\n",
       "  '4e96a8a9-8eed-4abb-9b57-fadf5ce96e1a',\n",
       "  '8a9173aa-c716-4031-ae62-242b19054c0d',\n",
       "  'edcbf35e-e03b-4f12-b373-8adf2c8af334',\n",
       "  'ca36520e-0b0a-48a3-b6e3-4d1e8a0f936f',\n",
       "  'efc4fbaf-315a-4278-b278-2065391dde7b',\n",
       "  '235efc00-210a-445c-9ea5-da2c1915e948',\n",
       "  '8ef03d06-1234-421a-b3a1-be96c0c2e51c'],\n",
       " 'embeddings': None,\n",
       " 'documents': ['React, Node.js, MongoDB',\n",
       "  'Angular,.NET, SQL Server',\n",
       "  'Vue.js, Ruby on Rails, PostgreSQL',\n",
       "  'Python, Django, MySQL',\n",
       "  'Java, Spring Boot, Oracle',\n",
       "  'Flutter, Firebase, GraphQL',\n",
       "  'WordPress, PHP, MySQL',\n",
       "  'Magento, PHP, MySQL',\n",
       "  'React Native, Node.js, MongoDB',\n",
       "  'iOS, Swift, Core Data',\n",
       "  'Android, Java, Room Persistence',\n",
       "  'Kotlin, Android, Firebase',\n",
       "  'Android TV, Kotlin, Android NDK',\n",
       "  'iOS, Swift, ARKit',\n",
       "  'Cross-platform, Xamarin, Azure',\n",
       "  'Backend, Kotlin, Spring Boot',\n",
       "  'Frontend, TypeScript, Angular',\n",
       "  'Full-stack, JavaScript, Express.js',\n",
       "  'Machine Learning, Python, TensorFlow',\n",
       "  'DevOps, Jenkins, Docker'],\n",
       " 'uris': None,\n",
       " 'data': None,\n",
       " 'metadatas': [{'links': 'https://example.com/react-portfolio'},\n",
       "  {'links': 'https://example.com/angular-portfolio'},\n",
       "  {'links': 'https://example.com/vue-portfolio'},\n",
       "  {'links': 'https://example.com/python-portfolio'},\n",
       "  {'links': 'https://example.com/java-portfolio'},\n",
       "  {'links': 'https://example.com/flutter-portfolio'},\n",
       "  {'links': 'https://example.com/wordpress-portfolio'},\n",
       "  {'links': 'https://example.com/magento-portfolio'},\n",
       "  {'links': 'https://example.com/react-native-portfolio'},\n",
       "  {'links': 'https://example.com/ios-portfolio'},\n",
       "  {'links': 'https://example.com/android-portfolio'},\n",
       "  {'links': 'https://example.com/kotlin-android-portfolio'},\n",
       "  {'links': 'https://example.com/android-tv-portfolio'},\n",
       "  {'links': 'https://example.com/ios-ar-portfolio'},\n",
       "  {'links': 'https://example.com/xamarin-portfolio'},\n",
       "  {'links': 'https://example.com/kotlin-backend-portfolio'},\n",
       "  {'links': 'https://example.com/typescript-frontend-portfolio'},\n",
       "  {'links': 'https://example.com/full-stack-js-portfolio'},\n",
       "  {'links': 'https://example.com/ml-python-portfolio'},\n",
       "  {'links': 'https://example.com/devops-portfolio'}],\n",
       " 'included': [<IncludeEnum.documents: 'documents'>,\n",
       "  <IncludeEnum.metadatas: 'metadatas'>]}"
      ]
     },
     "execution_count": 14,
     "metadata": {},
     "output_type": "execute_result"
    }
   ],
   "source": [
    "collection.get()"
   ]
  },
  {
   "cell_type": "code",
   "execution_count": 26,
   "id": "a2d405c8-514c-4162-8d31-453fb5183ce3",
   "metadata": {},
   "outputs": [
    {
     "data": {
      "text/plain": [
       "[[{'links': 'https://example.com/magento-portfolio'},\n",
       "  {'links': 'https://example.com/android-portfolio'}],\n",
       " [{'links': 'https://example.com/devops-portfolio'},\n",
       "  {'links': 'https://example.com/magento-portfolio'}],\n",
       " [{'links': 'https://example.com/ml-python-portfolio'},\n",
       "  {'links': 'https://example.com/flutter-portfolio'}],\n",
       " [{'links': 'https://example.com/xamarin-portfolio'},\n",
       "  {'links': 'https://example.com/magento-portfolio'}],\n",
       " [{'links': 'https://example.com/xamarin-portfolio'},\n",
       "  {'links': 'https://example.com/angular-portfolio'}],\n",
       " [{'links': 'https://example.com/magento-portfolio'},\n",
       "  {'links': 'https://example.com/wordpress-portfolio'}],\n",
       " [{'links': 'https://example.com/magento-portfolio'},\n",
       "  {'links': 'https://example.com/wordpress-portfolio'}],\n",
       " [{'links': 'https://example.com/ml-python-portfolio'},\n",
       "  {'links': 'https://example.com/full-stack-js-portfolio'}],\n",
       " [{'links': 'https://example.com/ml-python-portfolio'},\n",
       "  {'links': 'https://example.com/python-portfolio'}],\n",
       " [{'links': 'https://example.com/devops-portfolio'},\n",
       "  {'links': 'https://example.com/magento-portfolio'}],\n",
       " [{'links': 'https://example.com/devops-portfolio'},\n",
       "  {'links': 'https://example.com/kotlin-backend-portfolio'}],\n",
       " [{'links': 'https://example.com/magento-portfolio'},\n",
       "  {'links': 'https://example.com/xamarin-portfolio'}]]"
      ]
     },
     "execution_count": 26,
     "metadata": {},
     "output_type": "execute_result"
    }
   ],
   "source": [
    "links = collection.query( query_texts =job['skills'],n_results=2).get('metadatas',[])\n",
    "links"
   ]
  },
  {
   "cell_type": "code",
   "execution_count": 25,
   "id": "bd2094f1-ecf8-4ce5-a643-55c2c7960e8c",
   "metadata": {},
   "outputs": [
    {
     "data": {
      "text/plain": [
       "['Digital Order Management Systems',\n",
       " 'Warehouse Management Systems',\n",
       " 'API Tools',\n",
       " 'Microservices',\n",
       " '3rd party product integration',\n",
       " 'Retail and Digital systems',\n",
       " 'XML',\n",
       " 'JSON',\n",
       " 'Python',\n",
       " 'Order management and fulfillment process',\n",
       " 'Drop ship process',\n",
       " 'CommerceHUB platform']"
      ]
     },
     "execution_count": 25,
     "metadata": {},
     "output_type": "execute_result"
    }
   ],
   "source": [
    "job = json_res\n",
    "job['skills']"
   ]
  },
  {
   "cell_type": "code",
   "execution_count": 28,
   "id": "5bee52e2-ab32-4f78-b20b-5a7faf1ce64b",
   "metadata": {},
   "outputs": [
    {
     "name": "stdout",
     "output_type": "stream",
     "text": [
      "Subject: Expert Software Engineering Solutions for Your Business\n",
      "\n",
      "Dear Hiring Manager,\n",
      "\n",
      "I came across your job posting for a Software Engineer and was impressed by the role's requirements. At AtliQ, we specialize in providing AI and software consulting services that can help your business thrive. Our team of experts has extensive experience in developing, coding, configuring, and testing programs/systems and solutions that meet defined digital product specifications and direction.\n",
      "\n",
      "We have a strong portfolio in developing robust advanced analytics and machine learning solutions using Python, which can have a direct impact on your business. Our expertise in API Tools, Microservices, and 3rd party product integration can help you build scalable software solutions. We are also well-versed in Retail and Digital systems, XML, JSON, and CommerceHUB platform, making us a perfect fit for your requirements.\n",
      "\n",
      "Some of our notable projects include:\n",
      "\n",
      "* Magento solutions: https://example.com/magento-portfolio\n",
      "* Machine Learning with Python: https://example.com/ml-python-portfolio\n",
      "* DevOps solutions: https://example.com/devops-portfolio\n",
      "\n",
      "Our team can help design and build scalable software solutions, implement and integrate new technologies, and manage and evolve existing platforms. We are confident that our expertise in Order management and fulfillment process, Drop ship process, and Digital Order Management Systems can help you achieve your business goals.\n",
      "\n",
      "I would love to schedule a call to discuss how AtliQ can help you fulfill your software engineering needs. Please let me know if you're available for a quick call this week.\n",
      "\n",
      "Best regards,\n",
      "Megha\n",
      "Business Development Executive\n",
      "AtliQ\n"
     ]
    }
   ],
   "source": [
    "prompt_email = PromptTemplate.from_template(\n",
    "        \"\"\"\n",
    "        ### JOB DESCRIPTION:\n",
    "        {job_description}\n",
    "        \n",
    "        ### INSTRUCTION:\n",
    "        You are Megha, a business development executive at AtliQ. AtliQ is an AI & Software Consulting company dedicated to facilitating\n",
    "        the seamless integration of business processes through automated tools. \n",
    "        Over our experience, we have empowered numerous enterprises with tailored solutions, fostering scalability, \n",
    "        process optimization, cost reduction, and heightened overall efficiency. \n",
    "        Your job is to write a cold email to the client regarding the job mentioned above describing the capability of AtliQ \n",
    "        in fulfilling their needs.\n",
    "        Also add the most relevant ones from the following links to showcase Atliq's portfolio: {link_list}\n",
    "        Remember you are Mohan, BDE at AtliQ. \n",
    "        Do not provide a preamble.\n",
    "        ### EMAIL (NO PREAMBLE):\n",
    "        \n",
    "        \"\"\"\n",
    "        )\n",
    "\n",
    "chain_email = prompt_email | llm\n",
    "res = chain_email.invoke({\"job_description\": str(job), \"link_list\": links})\n",
    "print(res.content)\n"
   ]
  },
  {
   "cell_type": "code",
   "execution_count": null,
   "id": "98529f86-4558-4e9f-bc11-c902b50f9572",
   "metadata": {},
   "outputs": [],
   "source": []
  }
 ],
 "metadata": {
  "kernelspec": {
   "display_name": "Python 3 (ipykernel)",
   "language": "python",
   "name": "python3"
  },
  "language_info": {
   "codemirror_mode": {
    "name": "ipython",
    "version": 3
   },
   "file_extension": ".py",
   "mimetype": "text/x-python",
   "name": "python",
   "nbconvert_exporter": "python",
   "pygments_lexer": "ipython3",
   "version": "3.12.5"
  }
 },
 "nbformat": 4,
 "nbformat_minor": 5
}
