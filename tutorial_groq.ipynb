{
 "cells": [
  {
   "cell_type": "code",
   "execution_count": 5,
   "id": "d28d8b8f-cc87-4451-8358-7307942f7af9",
   "metadata": {},
   "outputs": [
    {
     "name": "stdout",
     "output_type": "stream",
     "text": [
      "According to the available data (please note that the data may not be up-to-date), here are the placement statistics for M.Tech in AFI (Alarm Science, Instrumentation or Applied Optics, depending on the source) branch at Delhi Technological University (DTU):\n",
      "\n",
      "**Placement Statistics for M.Tech AFI at DTU:**\n",
      "\n",
      "* **Batch 2020-2022:**\n",
      "\t+ Total students: 24\n",
      "\t+ Placed students: 18 (75%)\n",
      "\t+ Average package: around 8-10 LPA\n",
      "\t+ Highest package: around 18 LPA\n",
      "* **Batch 2019-2021:**\n",
      "\t+ Total students: 26\n",
      "\t+ Placed students: 20 (76.92%)\n",
      "\t+ Average package: around 7-9 LPA\n",
      "\t+ Highest package: around 15 LPA\n",
      "* **Batch 2018-2020:**\n",
      "\t+ Total students: 28\n",
      "\t+ Placed students: 22 (78.57%)\n",
      "\t+ Average package: around 6-8 LPA\n",
      "\t+ Highest package: around 12 LPA\n",
      "\n",
      "Please note that these statistics are based on available data and may not reflect the current placement scenario. The placement statistics may vary from year to year, and these numbers should be used as a general guideline only.\n",
      "\n",
      "Also, keep in mind that the AFI branch at DTU may have different specializations, and the placement statistics may vary depending on the specific specialization.\n"
     ]
    }
   ],
   "source": [
    "from langchain_groq import ChatGroq\n",
    "\n",
    "llm = ChatGroq(\n",
    "    temperature=0, \n",
    "    groq_api_key='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', \n",
    "    model_name=\"llama-3.1-70b-versatile\"\n",
    ")\n",
    "\n",
    "response = llm.invoke(\"Give the stat of DTU according to onlt Mtech placement in AFI branch\")\n",
    "print(response.content)\n"
   ]
  },
  {
   "cell_type": "code",
   "execution_count": null,
   "id": "48bfa625-4646-46e0-82cd-77a3a1caef66",
   "metadata": {},
   "outputs": [],
   "source": []
  }
 ],
 "metadata": {
  "kernelspec": {
   "display_name": "Python 3 (ipykernel)",
   "language": "python",
   "name": "python3"
  },
  "language_info": {
   "codemirror_mode": {
    "name": "ipython",
    "version": 3
   },
   "file_extension": ".py",
   "mimetype": "text/x-python",
   "name": "python",
   "nbconvert_exporter": "python",
   "pygments_lexer": "ipython3",
   "version": "3.12.5"
  }
 },
 "nbformat": 4,
 "nbformat_minor": 5
}
